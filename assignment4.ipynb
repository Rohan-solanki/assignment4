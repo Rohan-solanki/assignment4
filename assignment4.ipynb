{
 "cells": [
  {
   "cell_type": "code",
   "execution_count": 1,
   "id": "c55dcb79-07c8-47a7-976c-0fec9a6f1009",
   "metadata": {},
   "outputs": [
    {
     "name": "stdin",
     "output_type": "stream",
     "text": [
      "Enter number of units used:  50\n"
     ]
    },
    {
     "name": "stdout",
     "output_type": "stream",
     "text": [
      "Electricity bill: 0\n"
     ]
    }
   ],
   "source": [
    "# Q1. Write a program to calculate the electricity bill using only if statement.\n",
    "# Accept number of unit from user and calculate bill according to:\n",
    "# First 100 units – no charge, next 100 – Rs. 5/unit, after 200 – Rs. 10/unit.\n",
    "\n",
    "units = int(input(\"Enter number of units used: \"))\n",
    "bill = 0\n",
    "if units > 100:\n",
    "    if units <= 200:\n",
    "        bill = (units - 100) * 5\n",
    "    else:\n",
    "        bill = (100 * 5) + (units - 200) * 10\n",
    "print(\"Electricity bill:\", bill)\n"
   ]
  },
  {
   "cell_type": "code",
   "execution_count": 2,
   "id": "fa15c21d-4998-4fee-ba6e-ec48ce711853",
   "metadata": {},
   "outputs": [
    {
     "name": "stdin",
     "output_type": "stream",
     "text": [
      "Enter your percentage:  45\n"
     ]
    },
    {
     "name": "stdout",
     "output_type": "stream",
     "text": [
      "Grade: D\n"
     ]
    }
   ],
   "source": [
    "# Q2. Write a program to accept percentage and display grade.\n",
    "# >90: A, >80 and <=90: B, >=60 and <=80: C, <60: D\n",
    "\n",
    "percent = float(input(\"Enter your percentage: \"))\n",
    "if percent > 90:\n",
    "    print(\"Grade: A\")\n",
    "elif percent > 80:\n",
    "    print(\"Grade: B\")\n",
    "elif percent >= 60:\n",
    "    print(\"Grade: C\")\n",
    "else:\n",
    "    print(\"Grade: D\")\n"
   ]
  },
  {
   "cell_type": "code",
   "execution_count": 3,
   "id": "12053abc-288f-4886-9afe-2162afdb0e51",
   "metadata": {},
   "outputs": [
    {
     "name": "stdin",
     "output_type": "stream",
     "text": [
      "Enter age of person 1:  34\n",
      "Enter age of person 2:  33\n",
      "Enter age of person 3:  22\n",
      "Enter age of person 4:  45\n"
     ]
    },
    {
     "name": "stdout",
     "output_type": "stream",
     "text": [
      "Youngest age is: 22\n"
     ]
    }
   ],
   "source": [
    "# Q3. Accept age of 4 people and display the youngest one.\n",
    "\n",
    "a = int(input(\"Enter age of person 1: \"))\n",
    "b = int(input(\"Enter age of person 2: \"))\n",
    "c = int(input(\"Enter age of person 3: \"))\n",
    "d = int(input(\"Enter age of person 4: \"))\n",
    "\n",
    "young = a\n",
    "if b < young:\n",
    "    young = b\n",
    "if c < young:\n",
    "    young = c\n",
    "if d < young:\n",
    "    young = d\n",
    "\n",
    "print(\"Youngest age is:\", young)\n"
   ]
  },
  {
   "cell_type": "code",
   "execution_count": 5,
   "id": "227e3b0a-07bd-4681-923b-dafefb35d109",
   "metadata": {},
   "outputs": [
    {
     "name": "stdin",
     "output_type": "stream",
     "text": [
      "Enter your salary:  6666\n",
      "Enter years of service:  7\n"
     ]
    },
    {
     "name": "stdout",
     "output_type": "stream",
     "text": [
      "Bonus amount is: 533.28\n"
     ]
    }
   ],
   "source": [
    "# Q4. Bonus by years of service: >10yrs – 10%, 6–10yrs – 8%, <6yrs – 5%\n",
    "\n",
    "salary = float(input(\"Enter your salary: \"))\n",
    "years = int(input(\"Enter years of service: \"))\n",
    "bonus = 0\n",
    "\n",
    "if years > 10:\n",
    "    bonus = salary * 0.10\n",
    "elif years >= 6:\n",
    "    bonus = salary * 0.08\n",
    "else:\n",
    "    bonus = salary * 0.05\n",
    "\n",
    "print(\"Bonus amount is:\", bonus)\n"
   ]
  },
  {
   "cell_type": "code",
   "execution_count": null,
   "id": "6f9d7fd6-5c29-42d8-a2e5-8f500ed87669",
   "metadata": {},
   "outputs": [],
   "source": [
    "# Q5. Accept 3 numbers and print the second largest.\n",
    "\n",
    "x = int(input(\"Enter first number: \"))\n",
    "y = int(input(\"Enter second number: \"))\n",
    "z = int(input(\"Enter third number: \"))\n",
    "\n",
    "if (x > y and x < z) or (x < y and x > z):\n",
    "    second = x\n",
    "elif (y > x and y < z) or (y < x and y > z):\n",
    "    second = y\n",
    "else:\n",
    "    second = z\n",
    "\n",
    "print(\"Second largest number is:\", second)\n"
   ]
  },
  {
   "cell_type": "code",
   "execution_count": null,
   "id": "ae417e91-9600-4913-94c8-8d5b3da88132",
   "metadata": {},
   "outputs": [],
   "source": [
    "# Q6. Discount on Marked Price: >10000–20%, >7000–15%, <=7000–10%\n",
    "\n",
    "mp = float(input(\"Enter Marked Price: \"))\n",
    "discount = 0\n",
    "\n",
    "if mp > 10000:\n",
    "    discount = mp * 0.20\n",
    "elif mp > 7000:\n",
    "    discount = mp * 0.15\n",
    "else:\n",
    "    discount = mp * 0.10\n",
    "\n",
    "net = mp - discount\n",
    "print(\"Net amount to pay:\", net)\n"
   ]
  },
  {
   "cell_type": "code",
   "execution_count": null,
   "id": "13d11e35-6c9f-4378-8f47-44892f4b3d9f",
   "metadata": {},
   "outputs": [],
   "source": [
    "# Q7. Accept marks of Eng, Math, Science, Social Studies and allot stream:\n",
    "# All >80 – Science, Eng >80 & Math/Science >50 – Commerce,\n",
    "# Eng >80 & Social >80 – Humanities\n",
    "\n",
    "eng = int(input(\"Enter marks in English: \"))\n",
    "math = int(input(\"Enter marks in Math: \"))\n",
    "sci = int(input(\"Enter marks in Science: \"))\n",
    "sst = int(input(\"Enter marks in Social Studies: \"))\n",
    "\n",
    "if eng > 80 and math > 80 and sci > 80 and sst > 80:\n",
    "    print(\"Stream: Science\")\n",
    "elif eng > 80 and math > 50 and sci > 50:\n",
    "    print(\"Stream: Commerce\")\n",
    "elif eng > 80 and sst > 80:\n",
    "    print(\"Stream: Humanities\")\n",
    "else:\n",
    "    print(\"No stream allotted\")\n"
   ]
  },
  {
   "cell_type": "code",
   "execution_count": null,
   "id": "abfa5877-0ccf-4d57-af65-ee3f356e4ed8",
   "metadata": {},
   "outputs": [],
   "source": [
    "# Q8. Display \"Hello\" if number is multiple of 5, else \"Bye\"\n",
    "\n",
    "num = int(input(\"Enter a number: \"))\n",
    "if num % 5 == 0:\n",
    "    print(\"Hello\")\n",
    "else:\n",
    "    print(\"Bye\")\n"
   ]
  },
  {
   "cell_type": "code",
   "execution_count": null,
   "id": "71377b34-43f3-47f6-9509-d5dd77b50b24",
   "metadata": {},
   "outputs": [],
   "source": [
    "# Q9. Check whether last digit of number is divisible by 3 or not\n",
    "\n",
    "num = int(input(\"Enter a number: \"))\n",
    "last_digit = num % 10\n",
    "if last_digit % 3 == 0:\n",
    "    print(\"Last digit is divisible by 3\")\n",
    "else:\n",
    "    print(\"Last digit is not divisible by 3\")\n"
   ]
  },
  {
   "cell_type": "code",
   "execution_count": null,
   "id": "11d9bab5-cc03-4bc0-a6c4-c53b85826fa0",
   "metadata": {},
   "outputs": [],
   "source": [
    "# Q10. Check whether number is 3-digit or not\n",
    "\n",
    "n = int(input(\"Enter a number: \"))\n",
    "if n >= 100 and n <= 999:\n",
    "    print(\"It is a three-digit number\")\n",
    "else:\n",
    "    print(\"It is NOT a three-digit number\")\n"
   ]
  }
 ],
 "metadata": {
  "kernelspec": {
   "display_name": "Python [conda env:base] *",
   "language": "python",
   "name": "conda-base-py"
  },
  "language_info": {
   "codemirror_mode": {
    "name": "ipython",
    "version": 3
   },
   "file_extension": ".py",
   "mimetype": "text/x-python",
   "name": "python",
   "nbconvert_exporter": "python",
   "pygments_lexer": "ipython3",
   "version": "3.13.5"
  }
 },
 "nbformat": 4,
 "nbformat_minor": 5
}
